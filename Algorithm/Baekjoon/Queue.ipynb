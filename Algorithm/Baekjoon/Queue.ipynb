{
 "cells": [
  {
   "cell_type": "markdown",
   "metadata": {},
   "source": [
    "# Queue\n",
    "\n",
    "FIFO (Fist Input First Out)"
   ]
  },
  {
   "cell_type": "markdown",
   "metadata": {},
   "source": [
    "### 18258번 큐2\n",
    "\n",
    "case 1 : 시간초과\n",
    "\n",
    "case 2 : 429300KB 1680ms"
   ]
  },
  {
   "cell_type": "code",
   "execution_count": 8,
   "metadata": {},
   "outputs": [
    {
     "name": "stdout",
     "output_type": "stream",
     "text": [
      "15\n",
      "push 1\n",
      "push 2\n",
      "front\n",
      "1\n",
      "back\n",
      "2\n",
      "size\n",
      "2\n",
      "empty\n",
      "0\n",
      "pop\n",
      "1\n",
      "pop\n",
      "2\n",
      "pop\n",
      "-1\n",
      "size\n",
      "0\n",
      "empty\n",
      "1\n",
      "pop\n",
      "-1\n",
      "push 3\n",
      "empty\n",
      "0\n",
      "front\n",
      "3\n"
     ]
    }
   ],
   "source": [
    "N = int(input())\n",
    "\n",
    "queue = []\n",
    "for i in range(N) :\n",
    "    cmd_list = input().lower().split()\n",
    "    cmd = cmd_list[0]\n",
    "    \n",
    "    if cmd == 'push' :\n",
    "        queue.append(cmd_list[1])\n",
    "    elif cmd == 'front' :\n",
    "        print(-1 if not(queue) else queue[0])\n",
    "    elif cmd == 'back' :\n",
    "        print(-1 if not(queue) else queue[-1])\n",
    "    elif cmd == 'size' :\n",
    "        print(len(queue))\n",
    "    elif cmd == 'pop' :\n",
    "        if not(queue) : print(-1)\n",
    "        else :\n",
    "            print(queue[0])\n",
    "            del queue[0]\n",
    "    elif cmd == 'empty' :\n",
    "        print(1 if not(queue) else 0)\n",
    "    "
   ]
  },
  {
   "cell_type": "code",
   "execution_count": null,
   "metadata": {},
   "outputs": [],
   "source": [
    "from sys import stdin\n",
    "\n",
    "N = int(input())\n",
    "cmd_list = stdin.readlines()\n",
    "\n",
    "queue = []; cnt = 0\n",
    "\n",
    "for cmdStr in cmd_list :\n",
    "    cmd = cmdStr.split()\n",
    "    \n",
    "    if cmd[0] == 'push' :\n",
    "        queue.append(cmd[1])\n",
    "    elif cmd[0] == 'front' :\n",
    "        print(-1 if len(queue)==cnt else queue[cnt])\n",
    "    elif cmd[0] == 'back' :\n",
    "        print(-1 if len(queue)==cnt else queue[len(queue)-1])\n",
    "    elif cmd[0] == 'size' :\n",
    "        print(len(queue) - cnt)\n",
    "    elif cmd[0] == 'pop' :\n",
    "        if len(queue)==cnt : print(-1)\n",
    "        else :\n",
    "            print(queue[cnt])\n",
    "            cnt += 1\n",
    "    elif cmd[0] == 'empty' :\n",
    "        print(1 if len(queue)==cnt else 0)\n",
    "    \n",
    "    if len(queue) == cnt : queue = [];cnt=0\n"
   ]
  },
  {
   "cell_type": "markdown",
   "metadata": {},
   "source": [
    "# 2164번 카드2\n",
    "\n",
    "161836KB 176ms"
   ]
  },
  {
   "cell_type": "code",
   "execution_count": 7,
   "metadata": {},
   "outputs": [
    {
     "name": "stdout",
     "output_type": "stream",
     "text": [
      "10\n",
      "4\n"
     ]
    }
   ],
   "source": [
    "N = int(input())\n",
    "card = list(range(1,N+1))\n",
    "cnt = 0; length = N\n",
    "\n",
    "i = 0\n",
    "while True :\n",
    "    if i%2 != 0 : \n",
    "        card.append(card[cnt])\n",
    "        length = len(card)\n",
    "    cnt += 1\n",
    "    i+=1\n",
    "    \n",
    "    if length == cnt : \n",
    "        break\n",
    "    \n",
    "print(card[cnt-1])\n",
    "\n"
   ]
  }
 ],
 "metadata": {
  "kernelspec": {
   "display_name": "Python 3",
   "language": "python",
   "name": "python3"
  },
  "language_info": {
   "codemirror_mode": {
    "name": "ipython",
    "version": 3
   },
   "file_extension": ".py",
   "mimetype": "text/x-python",
   "name": "python",
   "nbconvert_exporter": "python",
   "pygments_lexer": "ipython3",
   "version": "3.7.4"
  }
 },
 "nbformat": 4,
 "nbformat_minor": 2
}
