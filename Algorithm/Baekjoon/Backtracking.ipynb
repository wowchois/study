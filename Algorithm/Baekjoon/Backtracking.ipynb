{
 "cells": [
  {
   "cell_type": "markdown",
   "metadata": {},
   "source": [
    "# Backtracking"
   ]
  },
  {
   "cell_type": "markdown",
   "metadata": {},
   "source": [
    "### 15649번 N과 M (1)\n",
    "\n",
    "case 1 : 128740KB 212ms\n",
    "\n",
    "case 2 : 124556KB 236ms"
   ]
  },
  {
   "cell_type": "code",
   "execution_count": 70,
   "metadata": {
    "scrolled": true
   },
   "outputs": [
    {
     "name": "stdout",
     "output_type": "stream",
     "text": [
      "4 4\n",
      "1 2 3 4\n",
      "1 2 4 3\n",
      "1 3 2 4\n",
      "1 3 4 2\n",
      "1 4 2 3\n",
      "1 4 3 2\n",
      "2 1 3 4\n",
      "2 1 4 3\n",
      "2 3 1 4\n",
      "2 3 4 1\n",
      "2 4 1 3\n",
      "2 4 3 1\n",
      "3 1 2 4\n",
      "3 1 4 2\n",
      "3 2 1 4\n",
      "3 2 4 1\n",
      "3 4 1 2\n",
      "3 4 2 1\n",
      "4 1 2 3\n",
      "4 1 3 2\n",
      "4 2 1 3\n",
      "4 2 3 1\n",
      "4 3 1 2\n",
      "4 3 2 1\n"
     ]
    }
   ],
   "source": [
    "from itertools import permutations \n",
    "\n",
    "N,M = map(int,input().split())\n",
    "n_list = list(permutations(range(1,N+1), M))\n",
    "\n",
    "for i in n_list :\n",
    "    print(' '.join(map(str,i))) #print(*i)"
   ]
  },
  {
   "cell_type": "code",
   "execution_count": null,
   "metadata": {},
   "outputs": [],
   "source": [
    "# https://wlstyql.tistory.com/56\n",
    "\n",
    "N, M = map(int, input().split())\n",
    "visited = [False] * N  # 탐사 여부 check\n",
    "out = []  # 출력 내용\n",
    "\n",
    "def fn(depth, N, M):\n",
    "    if depth == M:  # 탈출 조건\n",
    "        print(' '.join(map(str, out)))  # list를 str으로 합쳐 출력\n",
    "        return\n",
    "    for i in range(len(visited)):  # 탐사 check 하면서\n",
    "        if not visited[i]:  # 탐사 안했다면\n",
    "            visited[i] = True  # 탐사 시작(중복 제거)\n",
    "            out.append(i+1)  # 탐사 내용\n",
    "            fn(depth+1, N, M)  # 깊이 우선 탐색\n",
    "            visited[i] = False  # 깊이 탐사 완료\n",
    "            out.pop()  # 탐사 내용 제거\n",
    "\n",
    "fn(0, N, M)"
   ]
  },
  {
   "cell_type": "markdown",
   "metadata": {},
   "source": [
    "### 15650번 N과 M (2)\n",
    "\n",
    "case 1 : 121808KB 152ms\n",
    "\n",
    "case 2 : 121808KB 152ms"
   ]
  },
  {
   "cell_type": "code",
   "execution_count": 90,
   "metadata": {},
   "outputs": [
    {
     "name": "stdout",
     "output_type": "stream",
     "text": [
      "4 2\n",
      "1 2\n",
      "1 3\n",
      "1 4\n",
      "2 3\n",
      "2 4\n",
      "3 4\n"
     ]
    }
   ],
   "source": [
    "from itertools import combinations\n",
    "\n",
    "N,M = map(int,input().split())\n",
    "n_list = list(combinations(range(1,N+1), M))\n",
    "\n",
    "for i in n_list :\n",
    "    print(' '.join(map(str,i))) #print(*i)"
   ]
  },
  {
   "cell_type": "code",
   "execution_count": 103,
   "metadata": {},
   "outputs": [
    {
     "name": "stdout",
     "output_type": "stream",
     "text": [
      "4 4\n",
      "1 2 3 4\n"
     ]
    }
   ],
   "source": [
    "N, M = map(int, input().split())\n",
    "visited = [False] * N  # 탐사 여부 check\n",
    "out = []\n",
    "\n",
    "def fn(index,depth, N, M):\n",
    "    if depth == M:\n",
    "        print(' '.join(map(str, out)))\n",
    "        return\n",
    "    for i in range(index, len(visited)):\n",
    "        if not visited[i]:\n",
    "            visited[i] = True\n",
    "            out.append(i+1)\n",
    "            fn(i+1,depth+1, N, M)\n",
    "            visited[i] = False\n",
    "            out.pop()\n",
    "\n",
    "fn(0, 0, N, M)"
   ]
  },
  {
   "cell_type": "markdown",
   "metadata": {},
   "source": [
    "### 15651번 N과 M (3)\n",
    "\n",
    "case 1 : 241028KB 1020ms\n",
    "\n",
    "case 2 : 132644KB 828ms"
   ]
  },
  {
   "cell_type": "code",
   "execution_count": 82,
   "metadata": {
    "scrolled": true
   },
   "outputs": [
    {
     "name": "stdout",
     "output_type": "stream",
     "text": [
      "3 3 \n",
      "1 1 1\n",
      "1 1 2\n",
      "1 1 3\n",
      "1 2 1\n",
      "1 2 2\n",
      "1 2 3\n",
      "1 3 1\n",
      "1 3 2\n",
      "1 3 3\n",
      "2 1 1\n",
      "2 1 2\n",
      "2 1 3\n",
      "2 2 1\n",
      "2 2 2\n",
      "2 2 3\n",
      "2 3 1\n",
      "2 3 2\n",
      "2 3 3\n",
      "3 1 1\n",
      "3 1 2\n",
      "3 1 3\n",
      "3 2 1\n",
      "3 2 2\n",
      "3 2 3\n",
      "3 3 1\n",
      "3 3 2\n",
      "3 3 3\n"
     ]
    }
   ],
   "source": [
    "from itertools import product\n",
    "\n",
    "N,M = map(int,input().split())\n",
    "n_list = list(product(range(1,N+1), repeat=M))\n",
    "\n",
    "for i in n_list :\n",
    "    print(' '.join(map(str,i))) #print(*i)"
   ]
  },
  {
   "cell_type": "code",
   "execution_count": 88,
   "metadata": {
    "scrolled": true
   },
   "outputs": [
    {
     "name": "stdout",
     "output_type": "stream",
     "text": [
      "3 3\n",
      "1 1 1\n",
      "1 1 2\n",
      "1 1 3\n",
      "1 2 1\n",
      "1 2 2\n",
      "1 2 3\n",
      "1 3 1\n",
      "1 3 2\n",
      "1 3 3\n",
      "2 1 1\n",
      "2 1 2\n",
      "2 1 3\n",
      "2 2 1\n",
      "2 2 2\n",
      "2 2 3\n",
      "2 3 1\n",
      "2 3 2\n",
      "2 3 3\n",
      "3 1 1\n",
      "3 1 2\n",
      "3 1 3\n",
      "3 2 1\n",
      "3 2 2\n",
      "3 2 3\n",
      "3 3 1\n",
      "3 3 2\n",
      "3 3 3\n"
     ]
    }
   ],
   "source": [
    "N,M = map(int,input().split())\n",
    "out = []\n",
    "\n",
    "def fn(depth,N,M) :\n",
    "    if depth == M :\n",
    "        print(' '.join(map(str, out)))\n",
    "        return\n",
    "    for i in range(N) :\n",
    "        out.append(i+1)\n",
    "        fn(depth+1,N,M)\n",
    "        out.pop()\n",
    "        \n",
    "fn(0,N,M)"
   ]
  },
  {
   "cell_type": "markdown",
   "metadata": {},
   "source": [
    "### 15652번 N과 M (4)\n",
    "\n",
    "case 1 : 123288KB 180ms\n",
    "\n",
    "case 2 : 124892KB 232ms"
   ]
  },
  {
   "cell_type": "code",
   "execution_count": 105,
   "metadata": {},
   "outputs": [
    {
     "name": "stdout",
     "output_type": "stream",
     "text": [
      "3 3\n",
      "1 1 1\n",
      "1 1 2\n",
      "1 1 3\n",
      "1 2 2\n",
      "1 2 3\n",
      "1 3 3\n",
      "2 2 2\n",
      "2 2 3\n",
      "2 3 3\n",
      "3 3 3\n"
     ]
    }
   ],
   "source": [
    "from itertools import combinations_with_replacement\n",
    "\n",
    "N,M = map(int,input().split())\n",
    "n_list = list(combinations_with_replacement(range(1,N+1), M))\n",
    "\n",
    "for i in n_list :\n",
    "    print(' '.join(map(str,i))) #print(*i)"
   ]
  },
  {
   "cell_type": "code",
   "execution_count": 107,
   "metadata": {},
   "outputs": [
    {
     "name": "stdout",
     "output_type": "stream",
     "text": [
      "3 3\n",
      "1 1 1\n",
      "1 1 2\n",
      "1 1 3\n",
      "1 2 2\n",
      "1 2 3\n",
      "1 3 3\n",
      "2 2 2\n",
      "2 2 3\n",
      "2 3 3\n",
      "3 3 3\n"
     ]
    }
   ],
   "source": [
    "N, M = map(int, input().split())\n",
    "visited = [False] * N  # 탐사 여부 check\n",
    "out = []\n",
    "\n",
    "def fn(index,depth, N, M):\n",
    "    if depth == M:\n",
    "        print(' '.join(map(str, out)))\n",
    "        return\n",
    "    for i in range(index, len(visited)):\n",
    "        out.append(i+1)\n",
    "        fn(i,depth+1, N, M)\n",
    "        out.pop()\n",
    "\n",
    "fn(0, 0, N, M)"
   ]
  }
 ],
 "metadata": {
  "kernelspec": {
   "display_name": "Python 3",
   "language": "python",
   "name": "python3"
  },
  "language_info": {
   "codemirror_mode": {
    "name": "ipython",
    "version": 3
   },
   "file_extension": ".py",
   "mimetype": "text/x-python",
   "name": "python",
   "nbconvert_exporter": "python",
   "pygments_lexer": "ipython3",
   "version": "3.7.4"
  }
 },
 "nbformat": 4,
 "nbformat_minor": 2
}
