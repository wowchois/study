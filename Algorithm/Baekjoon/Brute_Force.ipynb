{
 "cells": [
  {
   "cell_type": "markdown",
   "metadata": {},
   "source": [
    "# Brute Force (브루트 포스)"
   ]
  },
  {
   "cell_type": "markdown",
   "metadata": {},
   "source": [
    "브루트 포스 알고리즘\n",
    "\n",
    ": 완전탐색 알고리즘. 가능한 모든 경우의 수를 찾아 요구조건에 충족되는 결과만 추출."
   ]
  },
  {
   "cell_type": "markdown",
   "metadata": {},
   "source": [
    "### 2798번 블랙잭\n",
    "\n",
    "121968KB 160ms"
   ]
  },
  {
   "cell_type": "code",
   "execution_count": 1,
   "metadata": {},
   "outputs": [
    {
     "name": "stdout",
     "output_type": "stream",
     "text": [
      "10 500\n",
      "93 181 245 214 315 36 185 138 216 295\n",
      "497\n"
     ]
    }
   ],
   "source": [
    "N,M = map(int,input().split())\n",
    "cards = list(map(int,input().split()))\n",
    "result = 0\n",
    "\n",
    "for i in range(0, N-2):\n",
    "    for j in range(i+1,N-1):\n",
    "        for k in range(j+1,N):\n",
    "            #print(i,j,k, cards[i]+cards[j]+cards[k])\n",
    "            if cards[i]+cards[j]+cards[k] <= M and M - (cards[i]+cards[j]+cards[k]) < M - result :\n",
    "                result = cards[i]+cards[j]+cards[k]\n",
    "            \n",
    "    \n",
    "print(result)"
   ]
  },
  {
   "cell_type": "markdown",
   "metadata": {},
   "source": [
    "### 2231번 분해합\n",
    "\n",
    "121968KB 504ms"
   ]
  },
  {
   "cell_type": "code",
   "execution_count": 11,
   "metadata": {},
   "outputs": [
    {
     "name": "stdout",
     "output_type": "stream",
     "text": [
      "216\n",
      "216 198\n",
      "198\n"
     ]
    }
   ],
   "source": [
    "N = int(input())\n",
    "result = N\n",
    "\n",
    "for i in range(1,N) :\n",
    "    str_i = map(int,list(str(i)))\n",
    "    \n",
    "    if i + sum(str_i) == N : \n",
    "        if result > i :\n",
    "            result = i\n",
    "\n",
    "if result == N :\n",
    "    print(0)\n",
    "else : \n",
    "    print(result)"
   ]
  },
  {
   "cell_type": "markdown",
   "metadata": {},
   "source": [
    "### 7568번 덩치\n",
    "\n",
    "121808KB 152ms"
   ]
  },
  {
   "cell_type": "code",
   "execution_count": 26,
   "metadata": {},
   "outputs": [
    {
     "name": "stdout",
     "output_type": "stream",
     "text": [
      "5\n",
      "55 185\n",
      "58 183\n",
      "88 186\n",
      "60 175\n",
      "46 155\n",
      "[[55, 185], [58, 183], [88, 186], [60, 175], [46, 155]]\n",
      "2 2 1 2 5 "
     ]
    }
   ],
   "source": [
    "N = int(input())\n",
    "#info = [[55, 185], [58, 183], [88, 186], [60, 175], [46, 155]]\n",
    "info = []\n",
    "\n",
    "for i in range(N) :\n",
    "    x,y = map(int,input().split())\n",
    "    info.append([x,y])\n",
    "\n",
    "for i in range(len(info)) :\n",
    "    cnt = 1\n",
    "    for j in range(len(info)) :\n",
    "        if (info[i][0] < info[j][0]) and (info[i][1] < info[j][1]) :\n",
    "            cnt += 1\n",
    "            \n",
    "    print(str(cnt) + ' ',end='')\n"
   ]
  }
 ],
 "metadata": {
  "kernelspec": {
   "display_name": "Python 3",
   "language": "python",
   "name": "python3"
  },
  "language_info": {
   "codemirror_mode": {
    "name": "ipython",
    "version": 3
   },
   "file_extension": ".py",
   "mimetype": "text/x-python",
   "name": "python",
   "nbconvert_exporter": "python",
   "pygments_lexer": "ipython3",
   "version": "3.7.4"
  }
 },
 "nbformat": 4,
 "nbformat_minor": 2
}
