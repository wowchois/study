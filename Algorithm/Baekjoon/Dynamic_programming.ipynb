{
 "cells": [
  {
   "cell_type": "markdown",
   "metadata": {},
   "source": [
    "# Dynamic Programming\n",
    "\n",
    "동적 계획법 : 복잡한 문제를 간단한 여러 개의 문제로 나누어 푸는 방법"
   ]
  },
  {
   "cell_type": "markdown",
   "metadata": {},
   "source": [
    "### 2748 번 피보나치 수 2\n",
    "\n",
    "121804KB 148ms"
   ]
  },
  {
   "cell_type": "code",
   "execution_count": 11,
   "metadata": {},
   "outputs": [
    {
     "name": "stdout",
     "output_type": "stream",
     "text": [
      "17\n",
      "1597\n"
     ]
    }
   ],
   "source": [
    "n = int(input())\n",
    "fib_list = [0,1]\n",
    "\n",
    "for i in range(2,n+1) :\n",
    "    fib_list.append(fib_list[i-1]+fib_list[i-2])\n",
    "\n",
    "print(fib_list[n])"
   ]
  },
  {
   "cell_type": "markdown",
   "metadata": {},
   "source": [
    "### 1904번 01타일\n",
    "\n",
    "121804KB 160ms"
   ]
  },
  {
   "cell_type": "code",
   "execution_count": 32,
   "metadata": {},
   "outputs": [
    {
     "name": "stdout",
     "output_type": "stream",
     "text": [
      "4\n",
      "5\n"
     ]
    }
   ],
   "source": [
    "n = int(input())\n",
    "n1 = 1; n2 = 2\n",
    "temp = 0\n",
    "for i in range(n-1) :\n",
    "    temp = n1\n",
    "    n1 = n2\n",
    "    n2 = (temp+n1)%15746\n",
    "\n",
    "print(n1)"
   ]
  },
  {
   "cell_type": "markdown",
   "metadata": {},
   "source": [
    "### 9461번 파도반 수열\n",
    "122484KB 164ms"
   ]
  },
  {
   "cell_type": "code",
   "execution_count": 39,
   "metadata": {},
   "outputs": [
    {
     "name": "stdout",
     "output_type": "stream",
     "text": [
      "2\n",
      "6\n",
      "3\n",
      "12\n",
      "16\n"
     ]
    }
   ],
   "source": [
    "T = int(input())\n",
    "\n",
    "for i in range(T) :\n",
    "    N = int(input())\n",
    "    n1 = 1; n2 = 1; n3 = 1; n4 = 0; temp1 = 0; temp2 = 0\n",
    "    for j in range(N-1) :\n",
    "        temp1 = n1\n",
    "        n1 = n2\n",
    "        temp2 = n2\n",
    "        n2 = n3\n",
    "        n4 = temp1+temp2\n",
    "        n3 = n4\n",
    "    print(n1)"
   ]
  }
 ],
 "metadata": {
  "kernelspec": {
   "display_name": "Python 3",
   "language": "python",
   "name": "python3"
  },
  "language_info": {
   "codemirror_mode": {
    "name": "ipython",
    "version": 3
   },
   "file_extension": ".py",
   "mimetype": "text/x-python",
   "name": "python",
   "nbconvert_exporter": "python",
   "pygments_lexer": "ipython3",
   "version": "3.7.4"
  }
 },
 "nbformat": 4,
 "nbformat_minor": 2
}
