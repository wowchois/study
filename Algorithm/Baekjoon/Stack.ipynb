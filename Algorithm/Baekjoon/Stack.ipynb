{
 "cells": [
  {
   "cell_type": "markdown",
   "metadata": {},
   "source": [
    "# Stack\n",
    "\n",
    "LIFO (Last In First Out) 구조"
   ]
  },
  {
   "cell_type": "markdown",
   "metadata": {},
   "source": [
    "### 9012번 괄호\n",
    "\n",
    "122484KB 172ms"
   ]
  },
  {
   "cell_type": "code",
   "execution_count": 1,
   "metadata": {},
   "outputs": [
    {
     "name": "stdout",
     "output_type": "stream",
     "text": [
      "3\n",
      "(())())\n",
      "NO\n",
      "(()())((()))\n",
      "YES\n",
      "((\n",
      "NO\n"
     ]
    }
   ],
   "source": [
    "T = int(input())\n",
    "\n",
    "for t in range(T) :\n",
    "  line = list(input())\n",
    "  stack = []; flag = True\n",
    "\n",
    "  for gual in line :\n",
    "    if gual == '(' :\n",
    "      stack.append(gual)\n",
    "    elif not(stack) and gual == ')' :\n",
    "      flag = False\n",
    "      break\n",
    "    elif gual == ')' :\n",
    "      stack.pop()\n",
    "    \n",
    "  if len(stack) == 0 and flag == True:\n",
    "    print('YES')\n",
    "  else : \n",
    "    print('NO')"
   ]
  },
  {
   "cell_type": "markdown",
   "metadata": {},
   "source": [
    "### 4949번 균형잡힌 세상\n",
    "\n",
    "124596KB 216ms"
   ]
  },
  {
   "cell_type": "code",
   "execution_count": 1,
   "metadata": {},
   "outputs": [
    {
     "name": "stdout",
     "output_type": "stream",
     "text": [
      "So when I die (the [first] I will see in (heaven) is a score list).\n",
      "yes\n",
      "[ first in ] ( first out ).\n",
      "yes\n",
      "([ (([( [ ] ) ( ) (( ))] )) ]).\n",
      "yes\n",
      "Help( I[m being held prisoner in a fortune cookie factory)].\n",
      "no\n",
      " .\n",
      "yes\n",
      ".\n"
     ]
    }
   ],
   "source": [
    "while True :\n",
    "  line = input().rstrip()\n",
    "  if line == '.' : break\n",
    "  \n",
    "  stack = []; flag = True\n",
    "  line_list = list(line)\n",
    "\n",
    "  for txt in line_list :\n",
    "    if txt == '(' or txt =='[' :\n",
    "      stack.append(txt)\n",
    "    elif txt == ']' :\n",
    "      if stack and stack[-1] == '[' :\n",
    "        stack.pop()\n",
    "      else :\n",
    "        flag = False\n",
    "        break\n",
    "    elif txt == ')' :\n",
    "      if stack and stack[-1] == '(' :\n",
    "        stack.pop()\n",
    "      else :\n",
    "        flag = False\n",
    "        break\n",
    "  print('yes' if flag and not(stack) else 'no')"
   ]
  },
  {
   "cell_type": "markdown",
   "metadata": {},
   "source": [
    "### 4889번 안정적인 문자열\n",
    "\n",
    "121808KB 156ms\n",
    "\n",
    "스택 문제 - 우선 스택이 비어있을 때 '}'를 만나면 '{'로 바꿔주는 연산을 한다. \n",
    "두번째로 주어진 문자열의 모든 문자를 순회한 결과 스택에 '{'가 남아있는 갯수를 세어 반으로 나눈다. \n",
    "그러면 '{'를 지우기 위해 필요한 '}'의 갯수가 나온다."
   ]
  },
  {
   "cell_type": "code",
   "execution_count": 2,
   "metadata": {},
   "outputs": [
    {
     "name": "stdout",
     "output_type": "stream",
     "text": [
      "}{\n",
      "1. 2\n",
      "{}{}{}\n",
      "2. 0\n",
      "{{{}\n",
      "3. 1\n",
      "---\n"
     ]
    }
   ],
   "source": [
    "num = 1\n",
    "\n",
    "while True :\n",
    "  cnt = 0\n",
    "  line = input().rstrip()\n",
    "  if line.startswith('-') : break\n",
    "\n",
    "  stack = []; flag = True\n",
    "  line_list = list(line)\n",
    "  \n",
    "  for txt in line_list :\n",
    "    if not(stack) and txt == '}' :\n",
    "      cnt += 1\n",
    "      stack.append('{')\n",
    "    elif txt == '}' :\n",
    "      stack.pop()\n",
    "    elif txt == '{' :\n",
    "      stack.append(txt)\n",
    "\n",
    "  print('{0}. {1}'.format(num,cnt + int(len(stack)/2)))\n",
    "  num += 1"
   ]
  }
 ],
 "metadata": {
  "kernelspec": {
   "display_name": "Python 3",
   "language": "python",
   "name": "python3"
  },
  "language_info": {
   "codemirror_mode": {
    "name": "ipython",
    "version": 3
   },
   "file_extension": ".py",
   "mimetype": "text/x-python",
   "name": "python",
   "nbconvert_exporter": "python",
   "pygments_lexer": "ipython3",
   "version": "3.7.4"
  }
 },
 "nbformat": 4,
 "nbformat_minor": 2
}
