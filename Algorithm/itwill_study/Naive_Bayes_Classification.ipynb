{
 "cells": [
  {
   "cell_type": "markdown",
   "metadata": {},
   "source": [
    "# Naive Bayes Classification"
   ]
  },
  {
   "cell_type": "markdown",
   "metadata": {},
   "source": [
    "나이브 베이즈 : 명목형 데이터를 확률로 출력해서, 데이터를 분류한다.\n",
    "\n",
    "우도표 : 각 카테고리에서 명목형 데이터를 확률로 만든 표. (각 확률들은 우도값이라고 한다.) "
   ]
  },
  {
   "cell_type": "markdown",
   "metadata": {},
   "source": [
    "P(A|B) = P(A교집합B) / P(B) = (P(B|A) * P(A)) / P(B) \n",
    "\n",
    "P(A|B) 는 B라는 조건에 A라는 확률의 값\n",
    "\n",
    "P(A)와 P(B)가 서로 독립적인 사건이라고 한다면, \n",
    "P(A교집합B)는 P(A) X P(B) 이다. (동시에 발생해서 두 확률끼리 곱한다.)"
   ]
  },
  {
   "cell_type": "markdown",
   "metadata": {},
   "source": [
    "### 나이브 베이즈 독감 예측 코드"
   ]
  },
  {
   "cell_type": "code",
   "execution_count": 1,
   "metadata": {},
   "outputs": [],
   "source": [
    "import numpy as np\n",
    "import pandas as pd\n",
    "\n",
    "class NaiveBayes :\n",
    "    def __init__(self) :\n",
    "        pass\n",
    "    \n",
    "    def predict(self,flu_list, title, answer) :\n",
    "        x = np.array(flu_list[\"flue\"])\n",
    "        y = np.array(flu_list[title])\n",
    "    \n",
    "        ct = pd.crosstab(x, y, rownames = ['x'], colnames = ['y'], margins=True)\n",
    "        \n",
    "        return ct[answer]['Y'], ct[answer]['N']\n",
    "        \n",
    "    \n",
    "    def naivebayes(self) :\n",
    "        flu_list = pd.read_csv('C://Users//insun//flu.csv')\n",
    "        \n",
    "        in_chills = input('오한이 있습니까 ?').upper()  #chills\n",
    "        in_nose = input('콧물이 있습니까 ?').upper() #runny_nose\n",
    "        in_head = input('두통이 있습니까?').capitalize() #headache\n",
    "        in_fever = input('열이 있습니까 ?').upper() #fever\n",
    "        \n",
    "        c_fluY,c_fluN = self.predict(flu_list,'chills',in_chills)\n",
    "        n_fluY,n_fluN = self.predict(flu_list,'runny_nose',in_nose)\n",
    "        h_fluY,h_fluN = self.predict(flu_list,'headache',in_head)\n",
    "        f_fluY,f_fluN = self.predict(flu_list,'fever',in_fever)\n",
    "        \n",
    "        flu_Y,_ = self.predict(flu_list,'flue','Y')\n",
    "        _,flu_N = self.predict(flu_list,'flue','N')\n",
    "        \n",
    "        udo_Y = (c_fluY/flu_Y) * (n_fluY/flu_Y) * (h_fluY/flu_Y) * (f_fluY/flu_Y) * (flu_Y/(flu_Y+flu_N))\n",
    "        udo_N = (c_fluN/flu_N) * (n_fluN/flu_N) * (h_fluN/flu_N) * (f_fluN/flu_N) * (flu_N/(flu_Y+flu_N))\n",
    "        \n",
    "        re_Y = udo_Y / (udo_Y + udo_N)\n",
    "        re_N = udo_N / (udo_Y + udo_N)\n",
    "        \n",
    "        if re_Y > re_N : return '독감이 맞습니다.'\n",
    "        else : return '독감이 아닙니다.'\n"
   ]
  },
  {
   "cell_type": "code",
   "execution_count": 3,
   "metadata": {},
   "outputs": [
    {
     "name": "stdout",
     "output_type": "stream",
     "text": [
      "오한이 있습니까 ?y\n",
      "콧물이 있습니까 ?n\n",
      "두통이 있습니까?Mild\n",
      "열이 있습니까 ?n\n"
     ]
    },
    {
     "data": {
      "text/plain": [
       "'독감이 아닙니다.'"
      ]
     },
     "execution_count": 3,
     "metadata": {},
     "output_type": "execute_result"
    }
   ],
   "source": [
    "naive = NaiveBayes()\n",
    "\n",
    "naive.naivebayes()"
   ]
  },
  {
   "cell_type": "code",
   "execution_count": 4,
   "metadata": {},
   "outputs": [
    {
     "name": "stdout",
     "output_type": "stream",
     "text": [
      "오한이 있습니까 ?y\n",
      "콧물이 있습니까 ?n\n",
      "두통이 있습니까?strong\n",
      "열이 있습니까 ?y\n"
     ]
    },
    {
     "data": {
      "text/plain": [
       "'독감이 맞습니다.'"
      ]
     },
     "execution_count": 4,
     "metadata": {},
     "output_type": "execute_result"
    }
   ],
   "source": [
    "naive.naivebayes()"
   ]
  }
 ],
 "metadata": {
  "kernelspec": {
   "display_name": "Python 3",
   "language": "python",
   "name": "python3"
  },
  "language_info": {
   "codemirror_mode": {
    "name": "ipython",
    "version": 3
   },
   "file_extension": ".py",
   "mimetype": "text/x-python",
   "name": "python",
   "nbconvert_exporter": "python",
   "pygments_lexer": "ipython3",
   "version": "3.7.4"
  }
 },
 "nbformat": 4,
 "nbformat_minor": 2
}
