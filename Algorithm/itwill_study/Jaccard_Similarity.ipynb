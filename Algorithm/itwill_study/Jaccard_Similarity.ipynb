{
 "cells": [
  {
   "cell_type": "markdown",
   "metadata": {},
   "source": [
    "# Jaccard similarity (자카드 유사도)"
   ]
  },
  {
   "cell_type": "markdown",
   "metadata": {},
   "source": [
    "Kakao Test URL : https://programmers.co.kr/learn/courses/30/lessons/17677\n",
    "\n",
    "자카드 유사도 알고리즘\n",
    "\n",
    ": 두 문장을 각각의 집합으로 만든 뒤, 두 집합을 통해 유사도를 측정하는 방법\n"
   ]
  },
  {
   "cell_type": "code",
   "execution_count": 1,
   "metadata": {},
   "outputs": [
    {
     "name": "stdout",
     "output_type": "stream",
     "text": [
      "16384\n"
     ]
    }
   ],
   "source": [
    "import re\n",
    "\n",
    "str1 = 'france'; str2 = 'french'\n",
    "#str1 = 'handshake'; str2 = 'shake hands'\n",
    "#str1 = 'aa1+aa2'; str2 = 'AAAA12'\n",
    "#str1 = 'E=M*C^2'; str2 = 'e=m*c^2'\n",
    "\n",
    "def splitStr(text) : #문자열 2개씩 자르기\n",
    "    arr = []\n",
    "    \n",
    "    for i in range(len(text)-1) :\n",
    "        sp_text = text[i:i+2]\n",
    "        if len(re.findall('[^a-zA-Z]',sp_text)) < 1 :\n",
    "            arr.append(sp_text.lower())\n",
    "                   \n",
    "    return arr\n",
    "  \n",
    "list1 = splitStr(str1)\n",
    "list2 = splitStr(str2)\n",
    "\n",
    "jung = [j for j in list1 if j in list2] #중복값 추출\n",
    "\n",
    "if len(list1) == 0 and len(list2) == 0 : #1,2 모두 공집합 경우\n",
    "    print(1*65536)\n",
    "else :\n",
    "    plusNum = (len(list1) + len(list2)) - len(jung)\n",
    "    print(int(len(jung)/plusNum * 65536))"
   ]
  }
 ],
 "metadata": {
  "kernelspec": {
   "display_name": "Python 3",
   "language": "python",
   "name": "python3"
  },
  "language_info": {
   "codemirror_mode": {
    "name": "ipython",
    "version": 3
   },
   "file_extension": ".py",
   "mimetype": "text/x-python",
   "name": "python",
   "nbconvert_exporter": "python",
   "pygments_lexer": "ipython3",
   "version": "3.7.4"
  }
 },
 "nbformat": 4,
 "nbformat_minor": 2
}
