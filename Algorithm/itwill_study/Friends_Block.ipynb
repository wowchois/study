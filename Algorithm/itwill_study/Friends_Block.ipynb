{
 "cells": [
  {
   "cell_type": "markdown",
   "metadata": {},
   "source": [
    "# Friends Block"
   ]
  },
  {
   "cell_type": "markdown",
   "metadata": {},
   "source": [
    "Kakao Test URL : https://programmers.co.kr/learn/courses/30/lessons/17679\n",
    "\n",
    "참고 : https://jay-ji.tistory.com/13"
   ]
  },
  {
   "cell_type": "markdown",
   "metadata": {},
   "source": [
    "1. (x,y), (x,y+1), (x+1,y), (x+1,y+1) 모두 다 같은 블럭인지 체크 (대문자로 변경해서 체크 -> 나중에 소문자로 변경해서)\n",
    "\n",
    "2. 같은 블럭인 경우, 그 자리 블록들을 소문자로 변경해서 사라질 블럭인것을 체크\n",
    "\n",
    "3. 모든 블럭 체크 후, 자신보다 아래 (y+1) 의 블럭이 소문자 또는 공백이면 데이터 교체 (교체 시, 공백으로 교체했음)\n",
    "\n",
    "4. 사라질 블럭이 없을때까지 반복 (블럭들이 전 후 같으면 반복종료)\n",
    "\n",
    "5. 사라진 블럭 개수 (공백) count  출력. "
   ]
  },
  {
   "cell_type": "code",
   "execution_count": 2,
   "metadata": {},
   "outputs": [],
   "source": [
    "import copy\n",
    "\n",
    "def cntLower(arr) :\n",
    "    cnt = 0\n",
    "    for k in arr :\n",
    "        cnt += k.count('')\n",
    "\n",
    "    return cnt\n",
    "\n",
    "def changeDown(m,n,arr) :\n",
    "    for q in range(m) :\n",
    "        for i in range(m-1) :\n",
    "            for j in range(n) :\n",
    "                if arr[i+1][j].islower() or arr[i+1][j] == '' :\n",
    "                    temp = arr[i][j]\n",
    "                    arr[i][j] = ''\n",
    "                    arr[i+1][j] = temp\n",
    "                    continue\n",
    "        \n",
    "    return arr\n",
    "\n",
    "def solution(m, n, board):\n",
    "    board = [list(i) for i in board]\n",
    "    \n",
    "    while True :\n",
    "        copyBoard = copy.deepcopy(board)\n",
    "        for i in range(m-1) :\n",
    "            for j in range(n-1) :        \n",
    "                if board[i][j].upper() == board[i][j+1].upper() and board[i][j].upper() == board[i+1][j].upper() and board[i][j].upper() == board[i+1][j+1].upper() :\n",
    "                    board[i][j] = board[i][j].lower()\n",
    "                    board[i][j+1] = board[i][j+1].lower()\n",
    "                    board[i+1][j] = board[i+1][j].lower()\n",
    "                    board[i+1][j+1] = board[i+1][j+1].lower()\n",
    "                        \n",
    "            \n",
    "        board = changeDown(m,n,board)\n",
    "        \n",
    "        if board == copyBoard : \n",
    "            break\n",
    "    \n",
    "    \n",
    "    answer = cntLower(board)\n",
    "    \n",
    "    return answer"
   ]
  },
  {
   "cell_type": "code",
   "execution_count": 4,
   "metadata": {},
   "outputs": [
    {
     "data": {
      "text/plain": [
       "14"
      ]
     },
     "execution_count": 4,
     "metadata": {},
     "output_type": "execute_result"
    }
   ],
   "source": [
    "m = 4\n",
    "n = 5\n",
    "board = ['CCBDE', 'AAADE', 'AAABF', 'CCBBF']\n",
    "solution(m,n,board)"
   ]
  }
 ],
 "metadata": {
  "kernelspec": {
   "display_name": "Python 3",
   "language": "python",
   "name": "python3"
  },
  "language_info": {
   "codemirror_mode": {
    "name": "ipython",
    "version": 3
   },
   "file_extension": ".py",
   "mimetype": "text/x-python",
   "name": "python",
   "nbconvert_exporter": "python",
   "pygments_lexer": "ipython3",
   "version": "3.7.4"
  }
 },
 "nbformat": 4,
 "nbformat_minor": 2
}
