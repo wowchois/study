{
 "cells": [
  {
   "cell_type": "markdown",
   "metadata": {},
   "source": [
    "# Decision Tree"
   ]
  },
  {
   "cell_type": "markdown",
   "metadata": {},
   "source": [
    "의사결정트리 : 어떤 항목에 대한 관측값과 목표값을 연결시켜주는 예측 모델"
   ]
  },
  {
   "cell_type": "markdown",
   "metadata": {},
   "source": [
    "### 의사결정트리 정보량 계산"
   ]
  },
  {
   "cell_type": "code",
   "execution_count": 1,
   "metadata": {},
   "outputs": [
    {
     "name": "stdout",
     "output_type": "stream",
     "text": [
      "gender 의 정보량 : 0.0679808886855997\n",
      "age 의 정보량 : 0.05650807692044291\n",
      "job 의 정보량 : 0.03600662066790816\n",
      "marry 의 정보량 : 0.18350551353931355\n",
      "car 의 정보량 : 0.024877695404766476\n"
     ]
    }
   ],
   "source": [
    "import math\n",
    "import pandas as pd\n",
    "\n",
    "\n",
    "def entropy(f,a) : #엔트로피 계산\n",
    "    return -(f/a) * math.log2(f/a) #+ 0.0001\n",
    "\n",
    "skin_list = pd.read_csv('C://Users//Insun//skin.csv')\n",
    "col = list(skin_list.columns) \n",
    "coupArr = set(skin_list[col[-1]]) #쿠폰 YES,NO\n",
    "\n",
    "for i in range(1,len(col)-1) :\n",
    "    colArr = set(skin_list[col[i]])\n",
    "    ct = pd.crosstab(skin_list[col[i]], skin_list[col[-1]], margins=True)\n",
    "    \n",
    "    b = 0; aArr = []\n",
    "    for j in colArr : #분류 전       \n",
    "        b += entropy(ct['All'][j],ct['All']['All'])\n",
    "        \n",
    "    for k in coupArr : #분류 후\n",
    "        a_YN = 0\n",
    "        for q in colArr :\n",
    "            a_YN += entropy(ct[k][q],ct[k]['All'])\n",
    "        \n",
    "        aArr.append(a_YN * ct[k]['All'] / ct['All']['All'])\n",
    "\n",
    "    print('{0} 의 정보량 : {1}'.format(col[i], b-sum(aArr)))"
   ]
  }
 ],
 "metadata": {
  "kernelspec": {
   "display_name": "Python 3",
   "language": "python",
   "name": "python3"
  },
  "language_info": {
   "codemirror_mode": {
    "name": "ipython",
    "version": 3
   },
   "file_extension": ".py",
   "mimetype": "text/x-python",
   "name": "python",
   "nbconvert_exporter": "python",
   "pygments_lexer": "ipython3",
   "version": "3.7.4"
  }
 },
 "nbformat": 4,
 "nbformat_minor": 2
}
