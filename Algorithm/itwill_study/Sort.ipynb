{
 "cells": [
  {
   "cell_type": "markdown",
   "metadata": {},
   "source": [
    "# Bubble Sort"
   ]
  },
  {
   "cell_type": "code",
   "execution_count": 1,
   "metadata": {},
   "outputs": [
    {
     "name": "stdout",
     "output_type": "stream",
     "text": [
      "[1, 2, 3, 4, 5, 7, 8, 10]\n"
     ]
    }
   ],
   "source": [
    "def bubble_sort(a) :\n",
    "    length = len(a)-1  \n",
    "    temp = 0\n",
    "    \n",
    "    for i in range(length) :\n",
    "        for j in range(length) :\n",
    "            temp = a[j]\n",
    "            \n",
    "            if a[j] > a[j+1] : #앞의 숫자가 크면 교체   \n",
    "                a[j] = a[j+1]\n",
    "                a[j+1] = temp\n",
    "            else : \n",
    "                continue\n",
    "            \n",
    "    return a\n",
    "\n",
    "arr = [5, 4, 3, 2, 1, 8, 7, 10]\n",
    "print(bubble_sort(arr))"
   ]
  },
  {
   "cell_type": "markdown",
   "metadata": {},
   "source": [
    "# Insertion Sort"
   ]
  },
  {
   "cell_type": "code",
   "execution_count": 2,
   "metadata": {},
   "outputs": [
    {
     "name": "stdout",
     "output_type": "stream",
     "text": [
      "[1, 2, 3, 4, 5, 7, 8, 10]\n"
     ]
    }
   ],
   "source": [
    "#a = [4,1,5,2,3]\n",
    "a = [5, 4, 3, 2, 1, 8, 7, 10]\n",
    "\n",
    "def insertion_sort(a) :\n",
    "    temp = 0\n",
    "    \n",
    "    for i in range(1,len(a)) :\n",
    "        for j in range(i) :         \n",
    "            if a[i] < a[j] : # i : 뒤숫자, j : 앞숫자            \n",
    "                temp = a[i]\n",
    "                a.remove(a[i])\n",
    "                a.insert(j,temp)\n",
    "                continue\n",
    "    \n",
    "    return a\n",
    "\n",
    "\n",
    "print(insertion_sort(a))"
   ]
  }
 ],
 "metadata": {
  "kernelspec": {
   "display_name": "Python 3",
   "language": "python",
   "name": "python3"
  },
  "language_info": {
   "codemirror_mode": {
    "name": "ipython",
    "version": 3
   },
   "file_extension": ".py",
   "mimetype": "text/x-python",
   "name": "python",
   "nbconvert_exporter": "python",
   "pygments_lexer": "ipython3",
   "version": "3.7.4"
  }
 },
 "nbformat": 4,
 "nbformat_minor": 2
}
