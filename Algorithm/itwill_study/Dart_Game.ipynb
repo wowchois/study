{
 "cells": [
  {
   "cell_type": "markdown",
   "metadata": {},
   "source": [
    "# Dart Game"
   ]
  },
  {
   "cell_type": "markdown",
   "metadata": {},
   "source": [
    "Kakao Test URL : https://programmers.co.kr/learn/courses/30/lessons/17682"
   ]
  },
  {
   "cell_type": "code",
   "execution_count": 1,
   "metadata": {},
   "outputs": [],
   "source": [
    "#case 1\n",
    "\n",
    "import re\n",
    "\n",
    "def solution(dartResult):\n",
    "    answer = 0    \n",
    "    bonus = ['S','D','T']; calcArr = []  \n",
    "    dart = re.findall('\\d+[A-Z]\\W?',dartResult)    \n",
    "    \n",
    "    for i in range(len(dart)) :\n",
    "        num = re.search('\\d+',dart[i]).group()\n",
    "        alph = re.search('\\D',dart[i]).group()  \n",
    "        wild = re.search('\\W',dart[i])\n",
    "        calcArr.append(int(num) ** (bonus.index(alph)+1))\n",
    "        \n",
    "        if bool(wild) :\n",
    "            g = wild.group()          \n",
    "            if g == '*' :\n",
    "                if i == 0 : \n",
    "                    calcArr[i] *= 2\n",
    "                else : \n",
    "                    calcArr[i-1] *= 2\n",
    "                    calcArr[i] *= 2\n",
    "            elif g == '#' :\n",
    "                calcArr[i] *= -1\n",
    "\n",
    "    answer = sum(calcArr)\n",
    "    return answer"
   ]
  },
  {
   "cell_type": "code",
   "execution_count": 2,
   "metadata": {},
   "outputs": [
    {
     "data": {
      "text/plain": [
       "23"
      ]
     },
     "execution_count": 2,
     "metadata": {},
     "output_type": "execute_result"
    }
   ],
   "source": [
    "solution('1S*2T*3S')"
   ]
  },
  {
   "cell_type": "code",
   "execution_count": 6,
   "metadata": {},
   "outputs": [],
   "source": [
    "#case 1\n",
    "\n",
    "import re\n",
    "\n",
    "aa = {'S' :'**1','D' :'**2','T':'**3','#':'*-1'}\n",
    "\n",
    "def solution(dartResult):\n",
    "    answer = ''\n",
    "    for i in re.sub('([SDT][#*]?)','\\g<1> ',dartResult).split():\n",
    "        if i[-1] == '*':\n",
    "            i += '2'\n",
    "            if answer:\n",
    "                answer = answer[:-1] + '*2+'\n",
    "        for j in aa.keys():\n",
    "            i = i.replace(j,aa[j])\n",
    "        answer += i + '+'\n",
    "    return eval(answer[:-1])"
   ]
  },
  {
   "cell_type": "code",
   "execution_count": 7,
   "metadata": {},
   "outputs": [
    {
     "data": {
      "text/plain": [
       "23"
      ]
     },
     "execution_count": 7,
     "metadata": {},
     "output_type": "execute_result"
    }
   ],
   "source": [
    "solution('1S*2T*3S')"
   ]
  }
 ],
 "metadata": {
  "kernelspec": {
   "display_name": "Python 3",
   "language": "python",
   "name": "python3"
  },
  "language_info": {
   "codemirror_mode": {
    "name": "ipython",
    "version": 3
   },
   "file_extension": ".py",
   "mimetype": "text/x-python",
   "name": "python",
   "nbconvert_exporter": "python",
   "pygments_lexer": "ipython3",
   "version": "3.7.4"
  }
 },
 "nbformat": 4,
 "nbformat_minor": 2
}
