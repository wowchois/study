{
 "cells": [
  {
   "cell_type": "markdown",
   "metadata": {},
   "source": [
    "# KNN Algorithms"
   ]
  },
  {
   "cell_type": "markdown",
   "metadata": {},
   "source": [
    "KNN : K Nearest Neighbor 약자로, 가장 가까운 거리의 이웃으로 분류. \n",
    "(머신러닝 지도학습의 분류에 해당되는 알고리즘이다.)\n",
    "\n",
    "K값에 따라서 분류를 하며 K값이 찾으려는 분류들 개수.\n",
    "새로운 데이터를 분류한다고 하면, K값에 해당하는 데이터들 중 가장 많이 분류된 데이터를 기준으로 분류된다.\n",
    "\n",
    "K값이 너무 작으면 세밀하게 분류해서 오버피팅(과대적합 - 신경망 학습이 과하게 이뤄져서 새로운 데이터에 대한 학습이 제대로 안이뤄진다.) 이 일어나며,\n",
    "K값이 너무 크면 대충 분류해서 언더피팅(과소적합 - 학습을 제대로 못하는 상황)이 일어난다."
   ]
  },
  {
   "cell_type": "markdown",
   "metadata": {},
   "source": [
    "### 머신러닝 종류"
   ]
  },
  {
   "cell_type": "markdown",
   "metadata": {},
   "source": [
    "1. KNN - 유클리드 거리 계산\n",
    "2. 나이브 베이즈 - 확률\n",
    "3. 의사결정트리 - 엔트로피\n",
    "4. 회귀 - 회귀 방정식\n",
    "5. 서포트 벡터 머신 - SVM 공식\n",
    "6. 아프리오리 - 신뢰도,연관도 구하는 공식\n",
    "7. K-means - 유클리드 거리 계산"
   ]
  },
  {
   "cell_type": "markdown",
   "metadata": {},
   "source": [
    "### KNN 분류 알고리즘 (유클리드 거리 계산)"
   ]
  },
  {
   "cell_type": "code",
   "execution_count": 4,
   "metadata": {},
   "outputs": [],
   "source": [
    "#case 1\n",
    "from collections import Counter\n",
    "\n",
    "def knn(x,y,label,f,k) :\n",
    "    dist = [(((f[0]-x[i])**2) + ((f[1]-y[i])**2))**0.5 for i in range(len(x))]\n",
    "    \n",
    "    box = dict(zip(dist, label))\n",
    "    box = sorted(box.items())\n",
    "    \n",
    "    rank_k = [j[1] for j in box[:k]]\n",
    "    cnt = Counter(rank_k)\n",
    "    \n",
    "    return list(cnt.keys())[0]"
   ]
  },
  {
   "cell_type": "code",
   "execution_count": 5,
   "metadata": {},
   "outputs": [
    {
     "data": {
      "text/plain": [
       "'과일'"
      ]
     },
     "execution_count": 5,
     "metadata": {},
     "output_type": "execute_result"
    }
   ],
   "source": [
    "x = [8,2,7,7,3,1]\n",
    "y = [5,3,10,3,8,1]\n",
    "label=['과일','단백질','채소','과일','채소','단백질']\n",
    "tomato =[6,4]\n",
    "\n",
    "knn(x,y,label,tomato,k=3)"
   ]
  },
  {
   "cell_type": "code",
   "execution_count": 2,
   "metadata": {},
   "outputs": [],
   "source": [
    "#case 2\n",
    "import numpy as np\n",
    "\n",
    "def my_knn(x,y,label, new, k=3):       \n",
    "    distances = [((tomato[0]-x[i])**2 + (tomato[1]-y[i])**2)**0.5 for i in range(len(label))]   \n",
    "    distances_sorted_with_k = sorted(distances)[:k]\n",
    "    label_near = [label[distances.index(i)] for i in distances_sorted_with_k]    \n",
    "    label_set = list(set(label))\n",
    "    label_count = [label_near.count(i) for i in label_set]\n",
    "   \n",
    "    return label_set[np.argmax(label_count)]"
   ]
  },
  {
   "cell_type": "code",
   "execution_count": 3,
   "metadata": {},
   "outputs": [
    {
     "data": {
      "text/plain": [
       "'과일'"
      ]
     },
     "execution_count": 3,
     "metadata": {},
     "output_type": "execute_result"
    }
   ],
   "source": [
    "x = [8,2,7,7,3,1]\n",
    "y = [5,3,10,3,8,1]\n",
    "label=['과일','단백질','채소','과일','채소','단백질']\n",
    "tomato =[6,4]\n",
    "\n",
    "my_knn(x,y,label,tomato,3)"
   ]
  }
 ],
 "metadata": {
  "kernelspec": {
   "display_name": "Python 3",
   "language": "python",
   "name": "python3"
  },
  "language_info": {
   "codemirror_mode": {
    "name": "ipython",
    "version": 3
   },
   "file_extension": ".py",
   "mimetype": "text/x-python",
   "name": "python",
   "nbconvert_exporter": "python",
   "pygments_lexer": "ipython3",
   "version": "3.7.4"
  }
 },
 "nbformat": 4,
 "nbformat_minor": 2
}
