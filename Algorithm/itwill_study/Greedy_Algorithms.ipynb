{
 "cells": [
  {
   "cell_type": "markdown",
   "metadata": {},
   "source": [
    "# Greedy Algorithms"
   ]
  },
  {
   "cell_type": "markdown",
   "metadata": {},
   "source": [
    "탐욕 알고리즘\n",
    "\n",
    ": 매 순간마다 최선의 선택을 하게 하는 것.\n",
    "\n",
    "선택할 때마다 가장 좋다고 생각되는 것을 선택해 나아가며, 최종적인 해답을 구하는 알고리즘."
   ]
  },
  {
   "cell_type": "code",
   "execution_count": 1,
   "metadata": {},
   "outputs": [],
   "source": [
    "# case1\n",
    "def greedy() :\n",
    "    money = int(input('잔돈 총액 ?'))\n",
    "    cash = [int(x) for x in input('거스름돈 종류 :').split(',')]\n",
    "    cash.sort(reverse=True)\n",
    "    \n",
    "    result = ''\n",
    "    \n",
    "    for i in range(len(cash)) :\n",
    "        case = money//cash[i]\n",
    "        money = money%cash[i]\n",
    "        result += '{0}원 {1}개 '.format(cash[i],case)\n",
    "        \n",
    "    return result\n"
   ]
  },
  {
   "cell_type": "code",
   "execution_count": 2,
   "metadata": {},
   "outputs": [
    {
     "name": "stdout",
     "output_type": "stream",
     "text": [
      "잔돈 총액 ?14\n",
      "거스름돈 종류 :7,1,10\n",
      "10원 1개 7원 0개 1원 4개 \n"
     ]
    }
   ],
   "source": [
    "print(greedy())"
   ]
  },
  {
   "cell_type": "code",
   "execution_count": 3,
   "metadata": {},
   "outputs": [],
   "source": [
    "# case2\n",
    "def greedy() :\n",
    "    money = int(input('잔돈 총액 ?'))\n",
    "    #cash = [int(x) for x in input('거스름돈 종류 :').split(',')]\n",
    "    cash = list(map(int,input('거스름돈 종류 :').split(',')))  \n",
    "    cash.sort(reverse=True)\n",
    "    \n",
    "    arr = [0]*len(cash)\n",
    "    \n",
    "    while money > 0 :\n",
    "        for i in range(len(cash)) :\n",
    "            if money >= cash[i] :\n",
    "                arr[i] += 1\n",
    "                money -= cash[i]\n",
    "                break\n",
    "    \n",
    "    str1 = ''\n",
    "    for j in range(len(arr)) :\n",
    "        str1 += '{0}원 {1}개 '.format(cash[j],arr[j])\n",
    "    \n",
    "    return str1\n",
    "\n"
   ]
  },
  {
   "cell_type": "code",
   "execution_count": 4,
   "metadata": {},
   "outputs": [
    {
     "name": "stdout",
     "output_type": "stream",
     "text": [
      "잔돈 총액 ?14\n",
      "거스름돈 종류 :7,1,10\n",
      "10원 1개 7원 0개 1원 4개 \n"
     ]
    }
   ],
   "source": [
    "print(greedy())"
   ]
  }
 ],
 "metadata": {
  "kernelspec": {
   "display_name": "Python 3",
   "language": "python",
   "name": "python3"
  },
  "language_info": {
   "codemirror_mode": {
    "name": "ipython",
    "version": 3
   },
   "file_extension": ".py",
   "mimetype": "text/x-python",
   "name": "python",
   "nbconvert_exporter": "python",
   "pygments_lexer": "ipython3",
   "version": "3.7.4"
  }
 },
 "nbformat": 4,
 "nbformat_minor": 2
}
