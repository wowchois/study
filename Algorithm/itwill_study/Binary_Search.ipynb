{
 "cells": [
  {
   "cell_type": "markdown",
   "metadata": {},
   "source": [
    "# Binary Search"
   ]
  },
  {
   "cell_type": "markdown",
   "metadata": {},
   "source": [
    "랜덤값 배열에서 입력한 숫자 찾는 경우"
   ]
  },
  {
   "cell_type": "code",
   "execution_count": 1,
   "metadata": {},
   "outputs": [],
   "source": [
    "import random\n",
    "\n",
    "def binary_search() :\n",
    "    inData = int(input('몇개의 배열변수를 만들건가요 ?'))\n",
    "    compNum = int(input('이진탐색으로 배열에서 검색할 숫자가 무엇인가요 ?'))\n",
    "\n",
    "    arr = []   \n",
    "    for i in range(inData) : \n",
    "        arr.append(random.randint(1,inData))    \n",
    "    arr.sort() #정렬\n",
    "    \n",
    "    t1 = 0; t2 = 0\n",
    "    for i in arr :\n",
    "        if arr.index(i) == 0 and t1 == 0 : #처음에 t1,t2초기화\n",
    "            t1 = 0\n",
    "            t2 = len(arr)\n",
    "                   \n",
    "        idx = int((t1+t2)/2)\n",
    "        \n",
    "        if arr[idx] > compNum :\n",
    "            t1 = t1\n",
    "            t2 = arr.index(arr[idx])\n",
    "            continue\n",
    "        elif arr[idx] < compNum :\n",
    "            t1 = arr.index(arr[idx])\n",
    "            t2 = t2\n",
    "            continue\n",
    "        elif arr[idx] == compNum :\n",
    "            return '배열에 %d 숫자가 검색이 됩니다.' %(arr[idx])\n",
    "            break\n",
    "        else : \n",
    "            return '해당 숫자가 없습니다.'\n",
    "            break\n",
    "        "
   ]
  },
  {
   "cell_type": "code",
   "execution_count": 4,
   "metadata": {},
   "outputs": [
    {
     "name": "stdout",
     "output_type": "stream",
     "text": [
      "몇개의 배열변수를 만들건가요 ?100\n",
      "이진탐색으로 배열에서 검색할 숫자가 무엇인가요 ?67\n",
      "배열에 67 숫자가 검색이 됩니다.\n"
     ]
    }
   ],
   "source": [
    "print (binary_search())"
   ]
  }
 ],
 "metadata": {
  "kernelspec": {
   "display_name": "Python 3",
   "language": "python",
   "name": "python3"
  },
  "language_info": {
   "codemirror_mode": {
    "name": "ipython",
    "version": 3
   },
   "file_extension": ".py",
   "mimetype": "text/x-python",
   "name": "python",
   "nbconvert_exporter": "python",
   "pygments_lexer": "ipython3",
   "version": "3.7.4"
  }
 },
 "nbformat": 4,
 "nbformat_minor": 2
}
