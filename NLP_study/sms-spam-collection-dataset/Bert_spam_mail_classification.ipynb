{
 "cells": [
  {
   "cell_type": "markdown",
   "metadata": {
    "colab_type": "text",
    "id": "TmNzdYgJmstS"
   },
   "source": [
    "# Bert Model 스팸메일 분류\n",
    "\n",
    "참고 :\n",
    "https://tfhub.dev/tensorflow/bert_multi_cased_L-12_H-768_A-12/1\n",
    "\n",
    "L-12 : hidden Layer 12개\n",
    "\n",
    "H-768 : hidden size 768\n",
    "\n",
    "A-12 : Attention Heads 12"
   ]
  },
  {
   "cell_type": "markdown",
   "metadata": {
    "colab_type": "text",
    "id": "jpqsHqS7m0NH"
   },
   "source": [
    "### Tensorflow hub 설치 (Bert Model Download)"
   ]
  },
  {
   "cell_type": "code",
   "execution_count": 5,
   "metadata": {
    "colab": {
     "base_uri": "https://localhost:8080/",
     "height": 107
    },
    "colab_type": "code",
    "executionInfo": {
     "elapsed": 4964,
     "status": "ok",
     "timestamp": 1586276015883,
     "user": {
      "displayName": "wow choi",
      "photoUrl": "",
      "userId": "05492314671235812532"
     },
     "user_tz": -540
    },
    "id": "W-smWJsUmiYz",
    "outputId": "66bcb1d7-5306-41bd-9fc5-edae6e3568d5"
   },
   "outputs": [
    {
     "name": "stdout",
     "output_type": "stream",
     "text": [
      "Requirement already satisfied: tensorflow-hub in /usr/local/lib/python3.6/dist-packages (0.7.0)\n",
      "Requirement already satisfied: numpy>=1.12.0 in /usr/local/lib/python3.6/dist-packages (from tensorflow-hub) (1.18.2)\n",
      "Requirement already satisfied: six>=1.10.0 in /usr/local/lib/python3.6/dist-packages (from tensorflow-hub) (1.12.0)\n",
      "Requirement already satisfied: protobuf>=3.4.0 in /usr/local/lib/python3.6/dist-packages (from tensorflow-hub) (3.10.0)\n",
      "Requirement already satisfied: setuptools in /usr/local/lib/python3.6/dist-packages (from protobuf>=3.4.0->tensorflow-hub) (46.1.3)\n"
     ]
    }
   ],
   "source": [
    "!pip install tensorflow-hub"
   ]
  },
  {
   "cell_type": "markdown",
   "metadata": {
    "colab_type": "text",
    "id": "e7-SBIk7aMvq"
   },
   "source": [
    "### Bert Tokenization 모듈 설치"
   ]
  },
  {
   "cell_type": "code",
   "execution_count": 0,
   "metadata": {
    "colab": {},
    "colab_type": "code",
    "id": "WS0JDpbMaL06"
   },
   "outputs": [],
   "source": [
    "!wget --quiet https://raw.githubusercontent.com/tensorflow/models/master/official/nlp/bert/tokenization.py"
   ]
  },
  {
   "cell_type": "code",
   "execution_count": 3,
   "metadata": {
    "colab": {
     "base_uri": "https://localhost:8080/",
     "height": 127
    },
    "colab_type": "code",
    "executionInfo": {
     "elapsed": 5887,
     "status": "ok",
     "timestamp": 1586415982070,
     "user": {
      "displayName": "wow choi",
      "photoUrl": "",
      "userId": "05492314671235812532"
     },
     "user_tz": -540
    },
    "id": "FBopwGpka-pc",
    "outputId": "25473852-f2a7-4511-bbba-fa754b1e6010"
   },
   "outputs": [
    {
     "name": "stdout",
     "output_type": "stream",
     "text": [
      "Collecting sentencepiece\n",
      "\u001b[?25l  Downloading https://files.pythonhosted.org/packages/74/f4/2d5214cbf13d06e7cb2c20d84115ca25b53ea76fa1f0ade0e3c9749de214/sentencepiece-0.1.85-cp36-cp36m-manylinux1_x86_64.whl (1.0MB)\n",
      "\u001b[K     |████████████████████████████████| 1.0MB 1.4MB/s \n",
      "\u001b[?25hInstalling collected packages: sentencepiece\n",
      "Successfully installed sentencepiece-0.1.85\n"
     ]
    }
   ],
   "source": [
    "!pip install sentencepiece"
   ]
  },
  {
   "cell_type": "code",
   "execution_count": 0,
   "metadata": {
    "colab": {},
    "colab_type": "code",
    "id": "SQ-FPfvya3oj"
   },
   "outputs": [],
   "source": [
    "import tokenization"
   ]
  },
  {
   "cell_type": "code",
   "execution_count": 5,
   "metadata": {
    "colab": {
     "base_uri": "https://localhost:8080/",
     "height": 35
    },
    "colab_type": "code",
    "executionInfo": {
     "elapsed": 873,
     "status": "ok",
     "timestamp": 1586415991787,
     "user": {
      "displayName": "wow choi",
      "photoUrl": "",
      "userId": "05492314671235812532"
     },
     "user_tz": -540
    },
    "id": "KqiQulMFnHGL",
    "outputId": "160643c0-6ec6-4673-cf3a-da8414ba3591"
   },
   "outputs": [
    {
     "name": "stderr",
     "output_type": "stream",
     "text": [
      "Using TensorFlow backend.\n"
     ]
    }
   ],
   "source": [
    "import numpy as np\n",
    "import pandas as pd\n",
    "import tensorflow_hub as hub\n",
    "import tensorflow as tf\n",
    "import keras\n",
    "from keras import backend as K"
   ]
  },
  {
   "cell_type": "code",
   "execution_count": 0,
   "metadata": {
    "colab": {},
    "colab_type": "code",
    "id": "8EpYx_I_oueM"
   },
   "outputs": [],
   "source": [
    "root_path = '/content/drive/My Drive/'\n",
    "file_path = '/content/drive/My Drive/MachineLearning_project/sms-spam-collection-dataset/'"
   ]
  },
  {
   "cell_type": "markdown",
   "metadata": {
    "colab_type": "text",
    "id": "A8gGMrz1wHdS"
   },
   "source": [
    "### Data load"
   ]
  },
  {
   "cell_type": "code",
   "execution_count": 7,
   "metadata": {
    "colab": {
     "base_uri": "https://localhost:8080/",
     "height": 204
    },
    "colab_type": "code",
    "executionInfo": {
     "elapsed": 2314,
     "status": "ok",
     "timestamp": 1586415999388,
     "user": {
      "displayName": "wow choi",
      "photoUrl": "",
      "userId": "05492314671235812532"
     },
     "user_tz": -540
    },
    "id": "ZacnNr4InHkE",
    "outputId": "41f5b7f1-5fb9-41cd-99d8-81c7eb4e3106"
   },
   "outputs": [
    {
     "data": {
      "text/html": [
       "<div>\n",
       "<style scoped>\n",
       "    .dataframe tbody tr th:only-of-type {\n",
       "        vertical-align: middle;\n",
       "    }\n",
       "\n",
       "    .dataframe tbody tr th {\n",
       "        vertical-align: top;\n",
       "    }\n",
       "\n",
       "    .dataframe thead th {\n",
       "        text-align: right;\n",
       "    }\n",
       "</style>\n",
       "<table border=\"1\" class=\"dataframe\">\n",
       "  <thead>\n",
       "    <tr style=\"text-align: right;\">\n",
       "      <th></th>\n",
       "      <th>v1</th>\n",
       "      <th>v2</th>\n",
       "      <th>Unnamed: 2</th>\n",
       "      <th>Unnamed: 3</th>\n",
       "      <th>Unnamed: 4</th>\n",
       "    </tr>\n",
       "  </thead>\n",
       "  <tbody>\n",
       "    <tr>\n",
       "      <th>0</th>\n",
       "      <td>ham</td>\n",
       "      <td>Go until jurong point, crazy.. Available only ...</td>\n",
       "      <td>NaN</td>\n",
       "      <td>NaN</td>\n",
       "      <td>NaN</td>\n",
       "    </tr>\n",
       "    <tr>\n",
       "      <th>1</th>\n",
       "      <td>ham</td>\n",
       "      <td>Ok lar... Joking wif u oni...</td>\n",
       "      <td>NaN</td>\n",
       "      <td>NaN</td>\n",
       "      <td>NaN</td>\n",
       "    </tr>\n",
       "    <tr>\n",
       "      <th>2</th>\n",
       "      <td>spam</td>\n",
       "      <td>Free entry in 2 a wkly comp to win FA Cup fina...</td>\n",
       "      <td>NaN</td>\n",
       "      <td>NaN</td>\n",
       "      <td>NaN</td>\n",
       "    </tr>\n",
       "    <tr>\n",
       "      <th>3</th>\n",
       "      <td>ham</td>\n",
       "      <td>U dun say so early hor... U c already then say...</td>\n",
       "      <td>NaN</td>\n",
       "      <td>NaN</td>\n",
       "      <td>NaN</td>\n",
       "    </tr>\n",
       "    <tr>\n",
       "      <th>4</th>\n",
       "      <td>ham</td>\n",
       "      <td>Nah I don't think he goes to usf, he lives aro...</td>\n",
       "      <td>NaN</td>\n",
       "      <td>NaN</td>\n",
       "      <td>NaN</td>\n",
       "    </tr>\n",
       "  </tbody>\n",
       "</table>\n",
       "</div>"
      ],
      "text/plain": [
       "     v1  ... Unnamed: 4\n",
       "0   ham  ...        NaN\n",
       "1   ham  ...        NaN\n",
       "2  spam  ...        NaN\n",
       "3   ham  ...        NaN\n",
       "4   ham  ...        NaN\n",
       "\n",
       "[5 rows x 5 columns]"
      ]
     },
     "execution_count": 7,
     "metadata": {
      "tags": []
     },
     "output_type": "execute_result"
    }
   ],
   "source": [
    "data = pd.read_csv( file_path + 'spam.csv', encoding='latin-1')\n",
    "data[:5]"
   ]
  },
  {
   "cell_type": "code",
   "execution_count": 8,
   "metadata": {
    "colab": {
     "base_uri": "https://localhost:8080/",
     "height": 53
    },
    "colab_type": "code",
    "executionInfo": {
     "elapsed": 873,
     "status": "ok",
     "timestamp": 1586416002365,
     "user": {
      "displayName": "wow choi",
      "photoUrl": "",
      "userId": "05492314671235812532"
     },
     "user_tz": -540
    },
    "id": "r0dCyNm7nHc_",
    "outputId": "20b537c4-7936-4ef5-db6e-30a2b1f5a7d5"
   },
   "outputs": [
    {
     "name": "stdout",
     "output_type": "stream",
     "text": [
      "5572\n",
      "5572\n"
     ]
    }
   ],
   "source": [
    "x_data = list(data['v2'])\n",
    "y_data = list(data['v1'].replace(['ham','spam'],[0,1]))\n",
    "\n",
    "print(len(x_data))\n",
    "print(len(y_data))"
   ]
  },
  {
   "cell_type": "markdown",
   "metadata": {
    "colab_type": "text",
    "id": "OLweJ0ag5ZRG"
   },
   "source": [
    "### Train, Test 데이터 분류"
   ]
  },
  {
   "cell_type": "code",
   "execution_count": 9,
   "metadata": {
    "colab": {
     "base_uri": "https://localhost:8080/",
     "height": 53
    },
    "colab_type": "code",
    "executionInfo": {
     "elapsed": 913,
     "status": "ok",
     "timestamp": 1586416008565,
     "user": {
      "displayName": "wow choi",
      "photoUrl": "",
      "userId": "05492314671235812532"
     },
     "user_tz": -540
    },
    "id": "1qIe6ja-5Z1x",
    "outputId": "f480e5d0-8313-4513-850b-0007b6d4b1c7"
   },
   "outputs": [
    {
     "name": "stdout",
     "output_type": "stream",
     "text": [
      "train length :  4457\n",
      "test length :  1115\n"
     ]
    }
   ],
   "source": [
    "train_len = int(len(x_data) * 0.8)\n",
    "test_len = len(x_data) - train_len\n",
    "\n",
    "print('train length : ', train_len)\n",
    "print('test length : ', test_len)"
   ]
  },
  {
   "cell_type": "code",
   "execution_count": 10,
   "metadata": {
    "colab": {
     "base_uri": "https://localhost:8080/",
     "height": 53
    },
    "colab_type": "code",
    "executionInfo": {
     "elapsed": 941,
     "status": "ok",
     "timestamp": 1586416013814,
     "user": {
      "displayName": "wow choi",
      "photoUrl": "",
      "userId": "05492314671235812532"
     },
     "user_tz": -540
    },
    "id": "q4x1cvUS5aFa",
    "outputId": "add12a6e-d28e-4c39-eb32-a1ae8dd62460"
   },
   "outputs": [
    {
     "name": "stdout",
     "output_type": "stream",
     "text": [
      "(4457,)\n",
      "(1115,)\n"
     ]
    }
   ],
   "source": [
    "x_train = np.array(x_data[:train_len])\n",
    "y_train = np.array(y_data[:train_len])\n",
    "x_test = np.array(x_data[train_len:])\n",
    "y_test = np.array(y_data[train_len:])\n",
    "\n",
    "print(x_train.shape)\n",
    "print(x_test.shape)"
   ]
  },
  {
   "cell_type": "markdown",
   "metadata": {
    "colab_type": "text",
    "id": "G29KLqCB9hGQ"
   },
   "source": [
    "### Build BERT Model"
   ]
  },
  {
   "cell_type": "code",
   "execution_count": 0,
   "metadata": {
    "colab": {},
    "colab_type": "code",
    "id": "RqUSEsxX5Z_t"
   },
   "outputs": [],
   "source": [
    "from tensorflow.keras.models import Model\n",
    "from tensorflow.keras.layers import Dense, Lambda, Input"
   ]
  },
  {
   "cell_type": "code",
   "execution_count": 0,
   "metadata": {
    "colab": {},
    "colab_type": "code",
    "id": "2_5fpHi3bbbs"
   },
   "outputs": [],
   "source": [
    "# text에 스페셜 토큰 추가 후 토큰화\n",
    "def bert_tokenizer(texts, tokenizer, max_len=1024) : \n",
    "  all_tokens = []\n",
    "  all_masks = []\n",
    "  all_segments = []\n",
    "\n",
    "  for text in texts :\n",
    "    text = tokenizer.tokenize(text)\n",
    "    text = text[:max_len-2] \n",
    "    input_seq = [\"[CLS]\"] + text + [\"[SEP]\"]\n",
    "    pad_len = max_len - len(input_seq)\n",
    "\n",
    "    tokens = tokenizer.convert_tokens_to_ids(input_seq)\n",
    "    tokens += [0] * pad_len\n",
    "    pad_masks = [1] * len(input_seq) + [0] * pad_len\n",
    "    segment_ids = [0] * max_len\n",
    "\n",
    "    all_tokens.append(tokens)\n",
    "    all_masks.append(pad_masks)\n",
    "    all_segments.append(segment_ids)\n",
    "\n",
    "  return np.array(all_tokens), np.array(all_masks), np.array(all_segments)\n"
   ]
  },
  {
   "cell_type": "code",
   "execution_count": 27,
   "metadata": {
    "colab": {
     "base_uri": "https://localhost:8080/",
     "height": 35
    },
    "colab_type": "code",
    "executionInfo": {
     "elapsed": 872,
     "status": "ok",
     "timestamp": 1586417711958,
     "user": {
      "displayName": "wow choi",
      "photoUrl": "",
      "userId": "05492314671235812532"
     },
     "user_tz": -540
    },
    "id": "akEBJXhazPnL",
    "outputId": "dc03e3f7-780a-4e6a-96a1-827085468d25"
   },
   "outputs": [
    {
     "data": {
      "text/plain": [
       "['test', 'ha']"
      ]
     },
     "execution_count": 27,
     "metadata": {
      "tags": []
     },
     "output_type": "execute_result"
    }
   ],
   "source": [
    "te = tokenizer.tokenize(\"test ha\")\n",
    "te = te[:160-2]\n",
    "te"
   ]
  },
  {
   "cell_type": "code",
   "execution_count": 0,
   "metadata": {
    "colab": {},
    "colab_type": "code",
    "id": "X7yVaKdddAzh"
   },
   "outputs": [],
   "source": [
    "# BERT 모델 파인튜닝 부분\n",
    "# bert_layer : bert임베딩 층\n",
    "def build_model(bert_layer, max_len=1024) :\n",
    "  input_word_ids = Input(shape=(max_len,), dtype=tf.int32, name=\"input_word_ids\")\n",
    "  input_mask = Input(shape=(max_len,), dtype=tf.int32, name=\"input_mask\")\n",
    "  segment_ids = Input(shape=(max_len,), dtype=tf.int32, name=\"segment_ids\")\n",
    "\n",
    "  _, seq_output = bert_layer([input_word_ids, input_mask, segment_ids])\n",
    "  clf_output = seq_output[:, 0, :] #Tensor(\"strided_slice:0\", shape=(None, 768), dtype=float32)\n",
    "\n",
    "  out = Dense(1, activation='sigmoid')(clf_output)\n",
    "\n",
    "  model = Model(inputs=[input_word_ids, input_mask, segment_ids], outputs=out)\n",
    "\n",
    "  return model\n",
    "\n",
    "  #d1,d2 = bert_layer([input_word_ids, input_mask, segment_ids])\n",
    "  #print(d1) #Tensor(\"keras_layer_1/Identity:0\", shape=(None, 768), dtype=float32)\n",
    "  #print(d2) #Tensor(\"keras_layer_1/Identity_1:0\", shape=(None, None, 768), dtype=float32)\n",
    "  #print(d2[:, 0, :]) #Tensor(\"strided_slice:0\", shape=(None, 768), dtype=float32)\n"
   ]
  },
  {
   "cell_type": "code",
   "execution_count": 0,
   "metadata": {
    "colab": {},
    "colab_type": "code",
    "id": "0QdOApvidz0P"
   },
   "outputs": [],
   "source": [
    "bert_layer = hub.KerasLayer(\"https://tfhub.dev/tensorflow/bert_multi_cased_L-12_H-768_A-12/1\", trainable=True)"
   ]
  },
  {
   "cell_type": "code",
   "execution_count": 19,
   "metadata": {
    "colab": {
     "base_uri": "https://localhost:8080/",
     "height": 71
    },
    "colab_type": "code",
    "executionInfo": {
     "elapsed": 1094,
     "status": "ok",
     "timestamp": 1586277032379,
     "user": {
      "displayName": "wow choi",
      "photoUrl": "",
      "userId": "05492314671235812532"
     },
     "user_tz": -540
    },
    "id": "yf0PLvCXeIBV",
    "outputId": "9ec68278-348d-4f9b-bf25-5c68757bbd95"
   },
   "outputs": [
    {
     "name": "stdout",
     "output_type": "stream",
     "text": [
      "Tensor(\"keras_layer_1/Identity:0\", shape=(None, 768), dtype=float32)\n",
      "Tensor(\"keras_layer_1/Identity_1:0\", shape=(None, None, 768), dtype=float32)\n",
      "Tensor(\"strided_slice:0\", shape=(None, 768), dtype=float32)\n"
     ]
    }
   ],
   "source": [
    "#build_model(bert_layer,max_len=512)"
   ]
  },
  {
   "cell_type": "code",
   "execution_count": 23,
   "metadata": {
    "colab": {
     "base_uri": "https://localhost:8080/",
     "height": 107
    },
    "colab_type": "code",
    "executionInfo": {
     "elapsed": 1072,
     "status": "ok",
     "timestamp": 1586277213711,
     "user": {
      "displayName": "wow choi",
      "photoUrl": "",
      "userId": "05492314671235812532"
     },
     "user_tz": -540
    },
    "id": "tjVRkWjKe8jr",
    "outputId": "3e2c5245-007a-4d6a-dee8-480df8bc8679"
   },
   "outputs": [
    {
     "name": "stdout",
     "output_type": "stream",
     "text": [
      "Tensor(\"keras_layer_3/Identity:0\", shape=(None, 768), dtype=float32)\n",
      "Tensor(\"keras_layer_3/Identity_1:0\", shape=(None, None, 768), dtype=float32)\n",
      "Tensor(\"strided_slice_3:0\", shape=(None, 768), dtype=float32)\n",
      "Tensor(\"strided_slice_4:0\", shape=(None, 768), dtype=float32)\n",
      "Tensor(\"strided_slice_5:0\", shape=(None, 768), dtype=float32)\n"
     ]
    }
   ],
   "source": [
    "#build_model(bert_layer,max_len=512)"
   ]
  },
  {
   "cell_type": "code",
   "execution_count": 0,
   "metadata": {
    "colab": {},
    "colab_type": "code",
    "id": "cnDNyW3uhUTC"
   },
   "outputs": [],
   "source": [
    "vocab_file = bert_layer.resolved_object.vocab_file.asset_path.numpy()\n",
    "do_lower_case = bert_layer.resolved_object.do_lower_case.numpy()"
   ]
  },
  {
   "cell_type": "code",
   "execution_count": 39,
   "metadata": {
    "colab": {
     "base_uri": "https://localhost:8080/",
     "height": 35
    },
    "colab_type": "code",
    "executionInfo": {
     "elapsed": 1079,
     "status": "ok",
     "timestamp": 1586277876104,
     "user": {
      "displayName": "wow choi",
      "photoUrl": "",
      "userId": "05492314671235812532"
     },
     "user_tz": -540
    },
    "id": "_mD3E2JPhbtB",
    "outputId": "d412fbef-76e2-483f-aab4-bbf9a77c23e0"
   },
   "outputs": [
    {
     "data": {
      "text/plain": [
       "b'/tmp/tfhub_modules/a7f4eb577e5eeec24c73b9dace49639b7c8193ed/assets/vocab.txt'"
      ]
     },
     "execution_count": 39,
     "metadata": {
      "tags": []
     },
     "output_type": "execute_result"
    }
   ],
   "source": [
    "vocab_file"
   ]
  },
  {
   "cell_type": "code",
   "execution_count": 0,
   "metadata": {
    "colab": {},
    "colab_type": "code",
    "id": "QQqOR7gJh7T3"
   },
   "outputs": [],
   "source": [
    "tokenizer = tokenization.FullTokenizer(vocab_file, do_lower_case)"
   ]
  },
  {
   "cell_type": "code",
   "execution_count": 0,
   "metadata": {
    "colab": {},
    "colab_type": "code",
    "id": "yjUBHNP8jrE4"
   },
   "outputs": [],
   "source": [
    "train_input = bert_tokenizer(x_train, tokenizer, max_len=160)\n",
    "test_input = bert_tokenizer(x_test, tokenizer, max_len=160)"
   ]
  },
  {
   "cell_type": "code",
   "execution_count": 31,
   "metadata": {
    "colab": {
     "base_uri": "https://localhost:8080/",
     "height": 395
    },
    "colab_type": "code",
    "executionInfo": {
     "elapsed": 1093,
     "status": "ok",
     "timestamp": 1586417854741,
     "user": {
      "displayName": "wow choi",
      "photoUrl": "",
      "userId": "05492314671235812532"
     },
     "user_tz": -540
    },
    "id": "-AxD8cPolLrF",
    "outputId": "71dda422-d7b0-4172-e4e3-898098c6a1d0"
   },
   "outputs": [
    {
     "data": {
      "text/plain": [
       "(array([[  101, 14439, 11444, ...,     0,     0,     0],\n",
       "        [  101, 84591, 37818, ...,     0,     0,     0],\n",
       "        [  101, 16122, 14722, ...,     0,     0,     0],\n",
       "        ...,\n",
       "        [  101, 23894, 10230, ...,     0,     0,     0],\n",
       "        [  101, 14535, 13028, ...,     0,     0,     0],\n",
       "        [  101, 19672, 20687, ...,     0,     0,     0]]),\n",
       " array([[1, 1, 1, ..., 0, 0, 0],\n",
       "        [1, 1, 1, ..., 0, 0, 0],\n",
       "        [1, 1, 1, ..., 0, 0, 0],\n",
       "        ...,\n",
       "        [1, 1, 1, ..., 0, 0, 0],\n",
       "        [1, 1, 1, ..., 0, 0, 0],\n",
       "        [1, 1, 1, ..., 0, 0, 0]]),\n",
       " array([[0, 0, 0, ..., 0, 0, 0],\n",
       "        [0, 0, 0, ..., 0, 0, 0],\n",
       "        [0, 0, 0, ..., 0, 0, 0],\n",
       "        ...,\n",
       "        [0, 0, 0, ..., 0, 0, 0],\n",
       "        [0, 0, 0, ..., 0, 0, 0],\n",
       "        [0, 0, 0, ..., 0, 0, 0]]))"
      ]
     },
     "execution_count": 31,
     "metadata": {
      "tags": []
     },
     "output_type": "execute_result"
    }
   ],
   "source": [
    "train_input"
   ]
  },
  {
   "cell_type": "code",
   "execution_count": 32,
   "metadata": {
    "colab": {
     "base_uri": "https://localhost:8080/",
     "height": 413
    },
    "colab_type": "code",
    "executionInfo": {
     "elapsed": 890,
     "status": "ok",
     "timestamp": 1586417881701,
     "user": {
      "displayName": "wow choi",
      "photoUrl": "",
      "userId": "05492314671235812532"
     },
     "user_tz": -540
    },
    "id": "x25ElzNilyVt",
    "outputId": "d87f901e-0d47-480d-8c73-81aee2bf248f"
   },
   "outputs": [
    {
     "name": "stdout",
     "output_type": "stream",
     "text": [
      "Model: \"model_1\"\n",
      "__________________________________________________________________________________________________\n",
      "Layer (type)                    Output Shape         Param #     Connected to                     \n",
      "==================================================================================================\n",
      "input_word_ids (InputLayer)     [(None, 160)]        0                                            \n",
      "__________________________________________________________________________________________________\n",
      "input_mask (InputLayer)         [(None, 160)]        0                                            \n",
      "__________________________________________________________________________________________________\n",
      "segment_ids (InputLayer)        [(None, 160)]        0                                            \n",
      "__________________________________________________________________________________________________\n",
      "keras_layer (KerasLayer)        [(None, 768), (None, 177853441   input_word_ids[0][0]             \n",
      "                                                                 input_mask[0][0]                 \n",
      "                                                                 segment_ids[0][0]                \n",
      "__________________________________________________________________________________________________\n",
      "tf_op_layer_strided_slice_1 (Te [(None, 768)]        0           keras_layer[1][1]                \n",
      "__________________________________________________________________________________________________\n",
      "dense_1 (Dense)                 (None, 1)            769         tf_op_layer_strided_slice_1[0][0]\n",
      "==================================================================================================\n",
      "Total params: 177,854,210\n",
      "Trainable params: 177,854,209\n",
      "Non-trainable params: 1\n",
      "__________________________________________________________________________________________________\n"
     ]
    }
   ],
   "source": [
    "model_BERT = build_model(bert_layer, max_len=160)\n",
    "model_BERT.summary()"
   ]
  },
  {
   "cell_type": "code",
   "execution_count": 0,
   "metadata": {
    "colab": {},
    "colab_type": "code",
    "id": "_0OEszUUlzJb"
   },
   "outputs": [],
   "source": [
    "model_BERT.compile(loss='binary_crossentropy', optimizer='adam', metrics=['accuracy'])"
   ]
  },
  {
   "cell_type": "code",
   "execution_count": 34,
   "metadata": {
    "colab": {
     "base_uri": "https://localhost:8080/",
     "height": 35
    },
    "colab_type": "code",
    "executionInfo": {
     "elapsed": 100046,
     "status": "ok",
     "timestamp": 1586417986623,
     "user": {
      "displayName": "wow choi",
      "photoUrl": "",
      "userId": "05492314671235812532"
     },
     "user_tz": -540
    },
    "id": "0UPHs5qElyaZ",
    "outputId": "a5f2eeab-43ed-4c36-c832-c70e02256693"
   },
   "outputs": [
    {
     "name": "stdout",
     "output_type": "stream",
     "text": [
      "140/140 [==============================] - 86s 612ms/step - loss: 0.7013 - accuracy: 0.8398\n"
     ]
    }
   ],
   "source": [
    "train_history = model_BERT.fit(train_input, y_train,\n",
    "    #validation_split = 0.2,\n",
    "    epochs = 1, # recomended 3-5 epochs\n",
    "    batch_size = 32\n",
    ")"
   ]
  },
  {
   "cell_type": "markdown",
   "metadata": {},
   "source": [
    "### Evaluate Model"
   ]
  },
  {
   "cell_type": "code",
   "execution_count": 36,
   "metadata": {
    "colab": {
     "base_uri": "https://localhost:8080/",
     "height": 71
    },
    "colab_type": "code",
    "executionInfo": {
     "elapsed": 8488,
     "status": "ok",
     "timestamp": 1586418071842,
     "user": {
      "displayName": "wow choi",
      "photoUrl": "",
      "userId": "05492314671235812532"
     },
     "user_tz": -540
    },
    "id": "gbjem47pmLKe",
    "outputId": "61106dd9-dbaa-4209-ff22-1cf339e205e2"
   },
   "outputs": [
    {
     "name": "stdout",
     "output_type": "stream",
     "text": [
      "35/35 [==============================] - 7s 197ms/step - loss: 0.4001 - accuracy: 0.8700\n",
      "\n",
      " 테스트 정확도: 0.8700\n"
     ]
    }
   ],
   "source": [
    "print(\"\\n 테스트 정확도: %.4f\" % (model_BERT.evaluate(test_input, y_test)[1]))"
   ]
  },
  {
   "cell_type": "code",
   "execution_count": 0,
   "metadata": {
    "colab": {},
    "colab_type": "code",
    "id": "YG9uT3wtmLG1"
   },
   "outputs": [],
   "source": []
  }
 ],
 "metadata": {
  "accelerator": "GPU",
  "colab": {
   "authorship_tag": "ABX9TyNzy5fj89OvURNJN72XzoUU",
   "collapsed_sections": [],
   "mount_file_id": "1MesK5ynUKMIyEduczDH1SMZ_7AP_QYSR",
   "name": "Bert_spam_mail_classification.ipynb",
   "provenance": [
    {
     "file_id": "16nVkzKvocffBCmYNfA5lWjo7ueGCmVo2",
     "timestamp": 1586233476921
    }
   ],
   "toc_visible": true
  },
  "kernelspec": {
   "display_name": "Python 3",
   "language": "python",
   "name": "python3"
  },
  "language_info": {
   "codemirror_mode": {
    "name": "ipython",
    "version": 3
   },
   "file_extension": ".py",
   "mimetype": "text/x-python",
   "name": "python",
   "nbconvert_exporter": "python",
   "pygments_lexer": "ipython3",
   "version": "3.7.4"
  }
 },
 "nbformat": 4,
 "nbformat_minor": 1
}
